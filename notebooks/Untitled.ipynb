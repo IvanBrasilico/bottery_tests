{
 "cells": [
  {
   "cell_type": "code",
   "execution_count": 1,
   "metadata": {},
   "outputs": [],
   "source": [
    "def locate_next(words, rules, level=1):\n",
    "    try:\n",
    "        lista = words.split(' ')\n",
    "        next_level = {}\n",
    "        url = \"\"\n",
    "        for key, value in rules.items():\n",
    "            if key == lista[0]:\n",
    "                # print('key found =', lista[0])\n",
    "                if isinstance(value, dict):\n",
    "                    for k, v in value.items():\n",
    "                        next_level[k] = v\n",
    "                else:\n",
    "                    url = value\n",
    "\n",
    "        if url:\n",
    "            return url, level\n",
    "        else:\n",
    "            if len(lista) > 1:\n",
    "                return locate_next(' '.join(lista[1:]), next_level, level+1)\n",
    "            return next_level, level\n",
    "    except AttributeError:\n",
    "        print(\"Atribute error. Possibly misconfiguration of rules:\", sys.exc_info()[0])\n",
    "        raise\n",
    "    except:\n",
    "        print(\"Unexpected error:\", sys.exc_info()[0])\n",
    "        raise\n"
   ]
  },
  {
   "cell_type": "code",
   "execution_count": 2,
   "metadata": {},
   "outputs": [],
   "source": [
    "rules = {'tec': {'rank': '_rank?words=',\n",
    "                 'filtra': '_filter_documents?afilter=',\n",
    "                 'capitulo': '_document_content/',\n",
    "                 '_message': 'Informe o comando: '\n",
    "                },\n",
    "         'cc': '_lacre/container/',\n",
    "         'll': '_lacre/lacre/',\n",
    "         'log': '_lacre/log',\n",
    "         'report': '_lacre/add/report'\n",
    "        }\n",
    "params = {'report:1': [{'name': 'conteiner', 'required': True},\n",
    "                       {'name': 'status', 'required': True},\n",
    "                       {'name': 'test', 'required': False}\n",
    "                      ]\n",
    "         }"
   ]
  },
  {
   "cell_type": "code",
   "execution_count": 3,
   "metadata": {},
   "outputs": [
    {
     "name": "stdout",
     "output_type": "stream",
     "text": [
      "({'rank': '_rank?words=', 'capitulo': '_document_content/', 'filtra': '_filter_documents?afilter=', '_message': 'Informe o comando: '}, 1)\n"
     ]
    }
   ],
   "source": [
    "print(locate_next('tec', rules))"
   ]
  },
  {
   "cell_type": "code",
   "execution_count": 4,
   "metadata": {},
   "outputs": [
    {
     "name": "stdout",
     "output_type": "stream",
     "text": [
      "('_filter_documents?afilter=', 2)\n"
     ]
    }
   ],
   "source": [
    "print(locate_next('tec filtra', rules))"
   ]
  },
  {
   "cell_type": "code",
   "execution_count": 5,
   "metadata": {},
   "outputs": [
    {
     "name": "stdout",
     "output_type": "stream",
     "text": [
      "({}, 2)\n"
     ]
    }
   ],
   "source": [
    "print(locate_next('tec fake', rules))"
   ]
  },
  {
   "cell_type": "code",
   "execution_count": 6,
   "metadata": {},
   "outputs": [
    {
     "name": "stdout",
     "output_type": "stream",
     "text": [
      "(['conteiner', 'status', 'test'], 2)\n"
     ]
    }
   ],
   "source": [
    "def process_parameters(name, level, params):\n",
    "    key = name.strip() + ':' + str(level)\n",
    "    param_list = params.get(key, None)\n",
    "    if param_list is None:\n",
    "        return None\n",
    "    result = []\n",
    "    n_required = 0\n",
    "    for param in param_list:\n",
    "        result.append(param['name'])\n",
    "        if param['required'] == True:\n",
    "            n_required+=1\n",
    "            \n",
    "    return result, n_required        \n",
    "print(process_parameters('report', 1, params))"
   ]
  },
  {
   "cell_type": "code",
   "execution_count": 7,
   "metadata": {},
   "outputs": [],
   "source": [
    "def access_api_rules(text, rules, params_dict=None):\n",
    "    '''Acess a JSON 'REST' API mapeada em rules\n",
    "    text: a phrase, a sequence of words by space passed by the Pattern object\n",
    "    rules: a dict on format rules = {'command1': {'subcommand1': 'url1',\n",
    "                                                 {'subcommand2': 'url2'} },\n",
    "                                     'command2': 'url3'\n",
    "                                    }\n",
    "    params_dict: a dict/list on format\n",
    "    params = {'command:level': [{'name': 'name1', 'required': True},\n",
    "                                {'name': 'name2', 'required': False}\n",
    "                               ],\n",
    "              'command2:level': [{'name': 'name2.1', 'required': True}]\n",
    "             }\n",
    "    '''\n",
    "    lista = text.split(' ')\n",
    "    url, level = locate_next(text, rules)\n",
    "    if isinstance(url, dict):\n",
    "        if url == {}:\n",
    "            return 'Comando não reconhecido, saindo...', False\n",
    "        message = url.pop('_message', '')\n",
    "        return message + ' - '.join([key for key in url]), True\n",
    "    resource = url\n",
    "    str_params = ''\n",
    "    if params_dict is None:\n",
    "        str_params = '%20'.join(lista[level:])\n",
    "        if not str_params:\n",
    "            return 'Informe os parâmetros do filtro: ', True\n",
    "    else:\n",
    "        n_params_passed = len(lista) - level\n",
    "        params_list, n_required = process_parameters(lista[level-1], level,params_dict)\n",
    "        if n_params_passed < n_required:\n",
    "            return 'Parâmetros obrigatórios: ' + str(n_required) + \\\n",
    "                   ' Ordem: ' + ' '.join(params_list) + \\\n",
    "                   ' Foram passados apenas: ' + str(n_params_passed)\n",
    "        # else n_params_passed >= n_required\n",
    "        str_params = '?'\n",
    "        cont = 0\n",
    "        for param in lista[level:]:\n",
    "            str_params =  str_params + params_list[cont] + '=' + \\\n",
    "                          param + '&'\n",
    "            cont += 1\n",
    "        str_params = str_params[:-1] # Take off last '&'\n",
    "        \n",
    "    str_resposta = url + str_params\n",
    "    return str_resposta, False\n"
   ]
  },
  {
   "cell_type": "code",
   "execution_count": 8,
   "metadata": {},
   "outputs": [
    {
     "name": "stdout",
     "output_type": "stream",
     "text": [
      "Parâmetros obrigatórios: 2 Ordem: conteiner status test Foram passados apenas: 1\n"
     ]
    }
   ],
   "source": [
    "print(access_api_rules('report MSKU1234567', rules, params))"
   ]
  },
  {
   "cell_type": "code",
   "execution_count": 9,
   "metadata": {},
   "outputs": [
    {
     "name": "stdout",
     "output_type": "stream",
     "text": [
      "('_lacre/add/report?conteiner=MSKU1234567&status=TESTE', False)\n"
     ]
    }
   ],
   "source": [
    "print(access_api_rules('report MSKU1234567 TESTE', rules, params))"
   ]
  },
  {
   "cell_type": "code",
   "execution_count": 10,
   "metadata": {},
   "outputs": [
    {
     "name": "stdout",
     "output_type": "stream",
     "text": [
      "('Informe o comando: rank - capitulo - filtra', True)\n"
     ]
    }
   ],
   "source": [
    "print(access_api_rules('tec', rules))"
   ]
  },
  {
   "cell_type": "code",
   "execution_count": 11,
   "metadata": {},
   "outputs": [
    {
     "name": "stdout",
     "output_type": "stream",
     "text": [
      "('Informe os parâmetros do filtro: ', True)\n"
     ]
    }
   ],
   "source": [
    "print(access_api_rules('tec rank', rules))"
   ]
  },
  {
   "cell_type": "code",
   "execution_count": 12,
   "metadata": {},
   "outputs": [
    {
     "name": "stdout",
     "output_type": "stream",
     "text": [
      "('_rank?words=paracetamol', False)\n"
     ]
    }
   ],
   "source": [
    "print(access_api_rules('tec rank paracetamol', rules))"
   ]
  },
  {
   "cell_type": "code",
   "execution_count": 13,
   "metadata": {},
   "outputs": [
    {
     "name": "stdout",
     "output_type": "stream",
     "text": [
      "('Comando não reconhecido, saindo...', False)\n"
     ]
    }
   ],
   "source": [
    "print(access_api_rules('tec fake', rules))"
   ]
  },
  {
   "cell_type": "code",
   "execution_count": 14,
   "metadata": {},
   "outputs": [
    {
     "name": "stdout",
     "output_type": "stream",
     "text": [
      "('_lacre/container/MSKU1234567', False)\n"
     ]
    }
   ],
   "source": [
    "print(access_api_rules('cc MSKU1234567', rules))"
   ]
  },
  {
   "cell_type": "code",
   "execution_count": null,
   "metadata": {},
   "outputs": [],
   "source": []
  },
  {
   "cell_type": "code",
   "execution_count": null,
   "metadata": {
    "collapsed": true
   },
   "outputs": [],
   "source": []
  }
 ],
 "metadata": {
  "kernelspec": {
   "display_name": "Python 3",
   "language": "python",
   "name": "python3"
  },
  "language_info": {
   "codemirror_mode": {
    "name": "ipython",
    "version": 3
   },
   "file_extension": ".py",
   "mimetype": "text/x-python",
   "name": "python",
   "nbconvert_exporter": "python",
   "pygments_lexer": "ipython3",
   "version": "3.5.2"
  }
 },
 "nbformat": 4,
 "nbformat_minor": 2
}
